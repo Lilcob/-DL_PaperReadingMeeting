{
  "cells": [
    {
      "cell_type": "markdown",
      "metadata": {
        "id": "view-in-github",
        "colab_type": "text"
      },
      "source": [
        "<a href=\"https://colab.research.google.com/github/Lilcob/-DL_PaperReadingMeeting/blob/master/Colab_%EA%B5%AC%EB%8F%85_%EC%B5%9C%EB%8C%80%ED%95%9C_%ED%99%9C%EC%9A%A9%ED%95%98%EA%B8%B0.ipynb\" target=\"_parent\"><img src=\"https://colab.research.google.com/assets/colab-badge.svg\" alt=\"Open In Colab\"/></a>"
      ]
    },
    {
      "cell_type": "markdown",
      "metadata": {
        "id": "SKQ4bH7qMGrA"
      },
      "source": [
        "# Colab 구독 최대한 활용하기\n",
        "\n"
      ]
    },
    {
      "cell_type": "markdown",
      "metadata": {
        "id": "QMMqmdiYMkvi"
      },
      "source": [
        "## 더 빠른 GPU\n",
        "\n",
        "<p>Colab 유료 요금제 중 하나를 구매한 사용자는 프리미엄 GPU를 사용할 수 있습니다. 프리미엄 액셀러레이터를 사용하려면 메뉴의 <code>런타임 &gt; 런타임 유형 변경</code>에서 노트북의 GPU 설정을 업그레이드하세요. 사용 가능 여부에 따라 프리미엄 GPU를 선택하면 V100 또는 A100 Nvidia GPU 중 하나를 사용할 수 있습니다.</p>\n",
        "<p>Colab 무료 버전에서는 Nvidia T4 GPU를 사용할 수 있으며 할당량 제한 및 가용성이 적용됩니다.</p>\n",
        "\n",
        "언제든지 다음 셀을 실행하여 할당된 GPU를 확인할 수 있습니다. 아래 코드 셀의 실행 결과가 ‘Not connected to a GPU’인 경우 메뉴의 <code>런타임 &gt; 런타임 유형 변경</code>에서 런타임을 변경하여 GPU 가속기를 사용 설정한 다음 코드 셀을 다시 실행하면 됩니다."
      ]
    },
    {
      "cell_type": "code",
      "execution_count": null,
      "metadata": {
        "id": "23TOba33L4qf"
      },
      "outputs": [],
      "source": [
        "gpu_info = !nvidia-smi\n",
        "gpu_info = '\\n'.join(gpu_info)\n",
        "if gpu_info.find('failed') >= 0:\n",
        "  print('Not connected to a GPU')\n",
        "else:\n",
        "  print(gpu_info)"
      ]
    },
    {
      "cell_type": "markdown",
      "metadata": {
        "id": "Sa-IrJS1aRVJ"
      },
      "source": [
        "노트북에서 GPU를 사용하려면 <code>런타임 &gt; 런타임 유형 변경</code> 메뉴를 선택한 다음 하드웨어 가속기 드롭다운을 GPU로 설정하세요."
      ]
    },
    {
      "cell_type": "markdown",
      "metadata": {
        "id": "65MSuHKqNeBZ"
      },
      "source": [
        "## 추가 메모리\n",
        "\n",
        "Colab 유료 요금제 중 하나를 구매한 사용자는 고용량 메모리 VM을 사용할 수 있습니다&#40;사용 가능한 경우&#41;.\n",
        "언제든지 다음 코드 셀을 실행하여 사용 가능한 메모리 용량을 확인할 수 있습니다. 아래 코드 셀의 실행 결과가 ‘Not using a high-RAM runtime’인 경우 메뉴의 <code>런타임 &gt; 런타임 유형 변경</code>에서 고용량 RAM 런타임을 사용 설정하고 런타임 구성 드롭다운에서 고용량 RAM을 선택한 다음 코드 셀을 다시 실행하면 됩니다."
      ]
    },
    {
      "cell_type": "code",
      "execution_count": null,
      "metadata": {
        "id": "V1G82GuO-tez"
      },
      "outputs": [],
      "source": [
        "from psutil import virtual_memory\n",
        "ram_gb = virtual_memory().total / 1e9\n",
        "print('Your runtime has {:.1f} gigabytes of available RAM\\n'.format(ram_gb))\n",
        "\n",
        "if ram_gb < 20:\n",
        "  print('Not using a high-RAM runtime')\n",
        "else:\n",
        "  print('You are using a high-RAM runtime!')"
      ]
    },
    {
      "cell_type": "markdown",
      "metadata": {
        "id": "BJW8Qi-pPpep"
      },
      "source": [
        "## 더 긴 런타임\n",
        "\n",
        "일정 시간이 지나면 모든 Colab 런타임이 재설정됩니다&#40;런타임에서 코드를 실행하지 않는 경우 더 빠른 방식&#41;. Colab Pro 및 Pro+ 사용자는 Colab 무료 사용자보다 런타임에 더욱 오랫동안 액세스할 수 있습니다.\n",
        "\n",
        "## 백그라운드 실행\n",
        "\n",
        "Colab Pro+ 사용자는 백그라운드 실행에 액세스할 수 있으며, 브라우저 탭을 닫은 후에도 최대 24시간 동안 노트북이 계속 실행됩니다. 노트북에서 백그라운드 실행을 사용 설정하려면 메뉴에서 <code>런타임 &gt; 런타임 유형 변경</code>으로 이동한 다음 백그라운드 실행을 사용 설정합니다.\n"
      ]
    },
    {
      "cell_type": "markdown",
      "metadata": {
        "id": "uLlTRcMM_h0k"
      },
      "source": [
        "## Colab Pro의 리소스 한도 늘리기\n",
        "\n",
        "Colab에서 제공되는 리소스는 무제한이 아닙니다. Colab을 최대한 활용하려면 필요하지 않은 리소스를 사용하지 않아야 합니다. 예를 들어, 필요할 때만 GPU를 사용하고 완료되면 Colab 탭을 닫는 것이 좋습니다.\n",
        "\n",
        "한도에 도달하면 사용한 만큼만 지불 요금제를 구매해 컴퓨팅 단위를 추가 구매하여 한도를 늘리세요. 누구나 <a href=\"https://colab.research.google.com/signup\">사용한 만큼만 지불</a>을 통해 컴퓨팅 단위를 구매할 수 있습니다. 구독 없이 사용할 수 있습니다."
      ]
    },
    {
      "cell_type": "markdown",
      "metadata": {
        "id": "mm8FzEidvPs6"
      },
      "source": [
        "## 의견을 보내주세요\n",
        "\n",
        "<p>의견이 있으면 Google에 보내주세요. 도움말 &gt; '의견 보내기…' 메뉴를 사용하여 간편하게 의견을 제출할 수 있습니다. Colab Pro에서 사용량 한도에 도달하면 Pro+ 구독을 고려해 보세요.</p>\n",
        "<p>Colab Pro, Pro+, 사용한 만큼만 지불 요금제에서 결제 관련 오류나 기타 문제가 발생하면 <a href=\"mailto:colab-billing@google.com\">colab-billing@google.com</a>으로 이메일을 보내 문의해 주시기 바랍니다.</p>"
      ]
    },
    {
      "cell_type": "markdown",
      "metadata": {
        "id": "qB3bdLe8jkAa"
      },
      "source": [
        "## 추가 리소스\n",
        "\n",
        "### Colab에서 메모장 사용하기\n",
        "- [Colaboratory 개요](/notebooks/basic_features_overview.ipynb)\n",
        "- [Markdown 가이드](/notebooks/markdown_guide.ipynb)\n",
        "- [라이브러리 가져오기 및 종속 항목 설치하기](/notebooks/snippets/importing_libraries.ipynb)\n",
        "- [GitHub에서 노트 저장 및 로드하기](https://colab.research.google.com/github/googlecolab/colabtools/blob/master/notebooks/colab-github-demo.ipynb)\n",
        "- [대화형 양식](/notebooks/forms.ipynb)\n",
        "- [대화형 위젯](/notebooks/widgets.ipynb)\n",
        "\n",
        "<a name=\"working-with-data\"></a>\n",
        "### 데이터로 작업하기\n",
        "- [데이터 로드: 드라이브, 스프레드시트, Google Cloud Storage](/notebooks/io.ipynb) \n",
        "- [차트: 데이터 시각화하기](/notebooks/charts.ipynb)\n",
        "- [BigQuery 시작하기](/notebooks/bigquery.ipynb)\n",
        "\n",
        "### 머신러닝 단기집중과정\n",
        "다음은 Google 온라인 머신러닝 과정에서 가져온 일부 메모장입니다. <a href=\"https://developers.google.com/machine-learning/crash-course/\">전체 과정 웹사이트</a>에서 자세한 내용을 확인하세요.\n",
        "- [Pandas DataFrame 소개](https://colab.research.google.com/github/google/eng-edu/blob/main/ml/cc/exercises/pandas_dataframe_ultraquick_tutorial.ipynb)\n",
        "- [합성 데이터를 사용하는 tf.keras 선형 회귀](https://colab.research.google.com/github/google/eng-edu/blob/main/ml/cc/exercises/linear_regression_with_synthetic_data.ipynb)\n",
        "\n",
        "\n",
        "<a name=\"using-accelerated-hardware\"></a>\n",
        "### 가속 하드웨어 사용하기\n",
        "- [GPU를 사용한 TensorFlow](/notebooks/gpu.ipynb)\n",
        "- [TPU를 사용한 TensorFlow](/notebooks/tpu.ipynb)"
      ]
    },
    {
      "cell_type": "markdown",
      "metadata": {
        "id": "RFm2S0Gijqo8"
      },
      "source": [
        "<a name=\"machine-learning-examples\"></a>\n",
        "\n",
        "## 머신러닝 예시\n",
        "\n",
        "Colaboratory 덕분에 가능해진 대화형 머신러닝 분석의 예시를 자세히 살펴보려면 <a href=\"https://tfhub.dev\">TensorFlow Hub</a>의 모델을 사용한 이 튜토리얼을 살펴보세요.\n",
        "\n",
        "일부 추천 예시는 다음과 같습니다.\n",
        "\n",
        "- <a href=\"https://tensorflow.org/hub/tutorials/tf2_image_retraining\">이미지 분류기 재훈련</a>: 사전에 훈련된 이미지 분류기를 기반으로 꽃을 분류하기 위한 Keras 모델을 구축합니다.\n",
        "- <a href=\"https://tensorflow.org/hub/tutorials/tf2_text_classification\">텍스트 분류</a>: IMDB 영화 리뷰를 <em>긍정적인 리뷰</em> 또는 <em>부정적인 리뷰</em>로 분류합니다.\n",
        "- <a href=\"https://tensorflow.org/hub/tutorials/tf2_arbitrary_image_stylization\">스타일 트랜스퍼</a>: 딥 러닝을 사용하여 이미지 간에 스타일을 전이시킵니다.\n",
        "- <a href=\"https://tensorflow.org/hub/tutorials/retrieval_with_tf_hub_universal_encoder_qa\">Multilingual Universal Sentence Encoder Q&amp;A</a>: 머신러닝 모델을 사용하여 SQuAD 데이터 세트의 질문에 답변합니다.\n",
        "- <a href=\"https://tensorflow.org/hub/tutorials/tweening_conv3d\">동영상 보간 유형</a>: 동영상에서 첫 프레임과 마지막 프레임 사이에 발생한 내용을 예측합니다.\n"
      ]
    }
  ],
  "metadata": {
    "colab": {
      "name": "Colab 구독 최대한 활용하기",
      "provenance": [],
      "include_colab_link": true
    },
    "kernelspec": {
      "display_name": "Python 3",
      "name": "python3"
    }
  },
  "nbformat": 4,
  "nbformat_minor": 0
}